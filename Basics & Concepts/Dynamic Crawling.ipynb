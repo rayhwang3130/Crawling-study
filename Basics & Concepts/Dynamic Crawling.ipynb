{
 "cells": [
  {
   "attachments": {},
   "cell_type": "markdown",
   "metadata": {},
   "source": [
    "# Dynamic Crawling"
   ]
  },
  {
   "attachments": {},
   "cell_type": "markdown",
   "metadata": {},
   "source": [
    "- Uses `selenium` package, controls `ChromeDriver`\n",
    "- Links into a certain URL, then accesses different pages by clicking, logging-in etc."
   ]
  },
  {
   "attachments": {},
   "cell_type": "markdown",
   "metadata": {},
   "source": [
    "## 0. Before going in...\n",
    "- `driver.get(url)` : goes to the url\n",
    "- `driver.find_element(By.~)` : gets the element pointed by the selector / path\n",
    "- `driver.find_elements(By.~)` : gets all the elements pointed by the selector / path -> returns an array\n",
    "- `driver.send_keys()` : input\n",
    "- `click()` : click"
   ]
  },
  {
   "attachments": {},
   "cell_type": "markdown",
   "metadata": {},
   "source": [
    "## 1. Selenium and accessing URL"
   ]
  },
  {
   "cell_type": "code",
   "execution_count": 1,
   "metadata": {},
   "outputs": [],
   "source": [
    "import warnings\n",
    "warnings.filterwarnings('ignore')"
   ]
  },
  {
   "cell_type": "code",
   "execution_count": 13,
   "metadata": {},
   "outputs": [],
   "source": [
    "from selenium import webdriver\n",
    "from selenium.webdriver.common.keys import Keys\n",
    "from selenium.webdriver.common.by import By\n",
    "import time\n",
    "\n",
    "query = input('Search for Keyword : ')\n",
    "\n",
    "url = 'https://www.naver.com'\n",
    "driver = webdriver.Chrome('chromedriver.exe')\n",
    "driver.get(url)\n",
    "time.sleep(3)"
   ]
  },
  {
   "attachments": {},
   "cell_type": "markdown",
   "metadata": {},
   "source": [
    "## 2. Accessing the wanted page by selenium"
   ]
  },
  {
   "cell_type": "code",
   "execution_count": 14,
   "metadata": {},
   "outputs": [],
   "source": [
    "# entering query to search box\n",
    "search_box = driver.find_element(By.CSS_SELECTOR, \"input#query\")\n",
    "search_box.send_keys(query)\n",
    "search_box.send_keys(Keys.RETURN)\n",
    "time.sleep(3)\n",
    "\n",
    "# clicking the news tab (the XPATH needs changing for different queries)\n",
    "driver.find_element(By.XPATH, '/html/body/div[3]/div[1]/div/div[2]/div[1]/div/ul/li[8]/a').click()\n",
    "time.sleep(2)"
   ]
  },
  {
   "attachments": {},
   "cell_type": "markdown",
   "metadata": {},
   "source": [
    "## 3. Retrieving wanted information using selenium"
   ]
  },
  {
   "cell_type": "code",
   "execution_count": 15,
   "metadata": {},
   "outputs": [
    {
     "name": "stdout",
     "output_type": "stream",
     "text": [
      "뉴진스, 한국대중음악상 3관왕 영예\n",
      "리바이스, 150주년 기념 뉴진스 글로벌 앰버서더 발탁\n",
      "뉴진스, 日 최대 패션축제 뜨자 '들썩'\n",
      "250, 한국대중음악상 ‘올해의 음반’ 등 4관왕…뉴진스 3관왕\n",
      "뉴진스의, 봄[화보]\n",
      "250, '올해의 음악인' 등 한대음 4관왕…뉴진스는 3관왕\n",
      "좋은 곡은 뉴진스에게 먼저?…'SM 사태' 우려 혹은 오류 [연계소문]\n",
      "'한대음' 뉴진스 3관왕·250 4관왕..윤하 올해의 노래상[종합]\n",
      "대세 입증 뉴진스, '쿠키'도 스포티파이 스트리밍 1억회 돌파\n",
      "BTS·뉴진스·르세라핌 꽃길 걷나…\"하이브, 세계 톱4 될 것\" [윤현주의 主食...\n"
     ]
    }
   ],
   "source": [
    "# using find_elements\n",
    "news_titles = driver.find_elements(By.CSS_SELECTOR, '.news_tit')\n",
    "\n",
    "for i in news_titles :\n",
    "    title = i.text\n",
    "    print(title)"
   ]
  },
  {
   "cell_type": "code",
   "execution_count": 16,
   "metadata": {},
   "outputs": [
    {
     "name": "stdout",
     "output_type": "stream",
     "text": [
      "뉴진스, 한국대중음악상 3관왕 영예\n",
      "리바이스, 150주년 기념 뉴진스 글로벌 앰버서더 발탁\n",
      "뉴진스, 日 최대 패션축제 뜨자 '들썩'\n",
      "250, 한국대중음악상 ‘올해의 음반’ 등 4관왕…뉴진스 3관왕\n",
      "뉴진스의, 봄[화보]\n",
      "250, '올해의 음악인' 등 한대음 4관왕…뉴진스는 3관왕\n",
      "좋은 곡은 뉴진스에게 먼저?…'SM 사태' 우려 혹은 오류 [연계소문]\n",
      "'한대음' 뉴진스 3관왕·250 4관왕..윤하 올해의 노래상[종합]\n",
      "대세 입증 뉴진스, '쿠키'도 스포티파이 스트리밍 1억회 돌파\n",
      "BTS·뉴진스·르세라핌 꽃길 걷나…\"하이브, 세계 톱4 될 것\" [윤현주의 主食...\n"
     ]
    }
   ],
   "source": [
    "# getting the entire HTML(page_source)\n",
    "from bs4 import BeautifulSoup as bs\n",
    "\n",
    "html = driver.page_source\n",
    "soup = bs(html, 'html.parser')\n",
    "\n",
    "titles = soup.select('a.news_tit')\n",
    "\n",
    "for i in titles :\n",
    "    title = i.get_text()\n",
    "    print(title)"
   ]
  },
  {
   "attachments": {},
   "cell_type": "markdown",
   "metadata": {},
   "source": [
    "---"
   ]
  },
  {
   "attachments": {},
   "cell_type": "markdown",
   "metadata": {},
   "source": [
    "## Extracting text : `.text`"
   ]
  },
  {
   "cell_type": "code",
   "execution_count": 17,
   "metadata": {},
   "outputs": [
    {
     "name": "stdout",
     "output_type": "stream",
     "text": [
      "뉴진스, 한국대중음악상 3관왕 영예\n",
      "리바이스, 150주년 기념 뉴진스 글로벌 앰버서더 발탁\n",
      "뉴진스, 日 최대 패션축제 뜨자 '들썩'\n",
      "250, 한국대중음악상 ‘올해의 음반’ 등 4관왕…뉴진스 3관왕\n",
      "뉴진스의, 봄[화보]\n",
      "250, '올해의 음악인' 등 한대음 4관왕…뉴진스는 3관왕\n",
      "좋은 곡은 뉴진스에게 먼저?…'SM 사태' 우려 혹은 오류 [연계소문]\n",
      "'한대음' 뉴진스 3관왕·250 4관왕..윤하 올해의 노래상[종합]\n",
      "대세 입증 뉴진스, '쿠키'도 스포티파이 스트리밍 1억회 돌파\n",
      "BTS·뉴진스·르세라핌 꽃길 걷나…\"하이브, 세계 톱4 될 것\" [윤현주의 主食...\n"
     ]
    }
   ],
   "source": [
    "news_titles = driver.find_elements(By.CSS_SELECTOR, '.news_tit')\n",
    "\n",
    "for i in news_titles :\n",
    "    title = i.text\n",
    "    print(title)"
   ]
  },
  {
   "attachments": {},
   "cell_type": "markdown",
   "metadata": {},
   "source": [
    "## Extracting links : `.get_attribute('href')`"
   ]
  },
  {
   "cell_type": "code",
   "execution_count": 18,
   "metadata": {},
   "outputs": [
    {
     "name": "stdout",
     "output_type": "stream",
     "text": [
      "https://sports.donga.com/article/all/20230306/118185903/1\n",
      "http://www.edaily.co.kr/news/newspath.asp?newsid=02220566635540696\n",
      "http://www.newsis.com/view/?id=NISX20230305_0002214495&cID=10601&pID=10600\n",
      "https://www.hani.co.kr/arti/culture/music/1082241.html\n",
      "http://sports.khan.co.kr/news/sk_index.html?art_id=202303060907003&sec_id=540101&pt=nv\n",
      "https://www.nocutnews.co.kr/news/5904755\n",
      "https://www.hankyung.com/life/article/2023030354007\n",
      "https://www.starnewskorea.com/stview.php?no=2023030516460369555\n",
      "http://mbn.mk.co.kr/pages/news/newsView.php?category=mbn00007&news_seq_no=4909051\n",
      "https://www.hankyung.com/finance/article/202302274477i\n"
     ]
    }
   ],
   "source": [
    "for i in news_titles :\n",
    "    href = i.get_attribute('href')\n",
    "    print(href)"
   ]
  },
  {
   "attachments": {},
   "cell_type": "markdown",
   "metadata": {},
   "source": [
    "## Images : `.get_attribute('src')`"
   ]
  },
  {
   "cell_type": "code",
   "execution_count": 19,
   "metadata": {},
   "outputs": [],
   "source": [
    "news_thumbnail = driver.find_elements(By.CSS_SELECTOR, 'img.thumb.api_get')\n",
    "link_thumbnail = []\n",
    "\n",
    "for img in news_thumbnail :\n",
    "    link_thumbnail.append(img.get_attribute('src'))\n",
    "\n",
    "# making a file to store the images\n",
    "import os\n",
    "\n",
    "path_folder = 'file_path'\n",
    "\n",
    "if not os.path.isdir(path_folder) :\n",
    "    os.mkdir(path_folder)\n",
    "\n",
    "# downloading the image\n",
    "from urllib.request import urlretrieve\n",
    "i = 0\n",
    "for link in link_thumbnail :\n",
    "    i += 1\n",
    "    urlretrieve(link, path_folder + f'{i}.jpg')"
   ]
  }
 ],
 "metadata": {
  "kernelspec": {
   "display_name": "Python 3",
   "language": "python",
   "name": "python3"
  },
  "language_info": {
   "codemirror_mode": {
    "name": "ipython",
    "version": 3
   },
   "file_extension": ".py",
   "mimetype": "text/x-python",
   "name": "python",
   "nbconvert_exporter": "python",
   "pygments_lexer": "ipython3",
   "version": "3.10.10"
  },
  "orig_nbformat": 4
 },
 "nbformat": 4,
 "nbformat_minor": 2
}
