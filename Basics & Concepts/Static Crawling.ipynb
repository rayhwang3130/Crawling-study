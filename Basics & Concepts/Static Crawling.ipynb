{
 "cells": [
  {
   "attachments": {},
   "cell_type": "markdown",
   "metadata": {},
   "source": [
    "# Static Crawling"
   ]
  },
  {
   "attachments": {},
   "cell_type": "markdown",
   "metadata": {},
   "source": [
    "Order of actions\n",
    "1. Get the wanted URL's HTML contents using the `requests` package\n",
    "2. Parsing the entire HTML using `BeautifulSoup4`\n",
    "3. Retrieve only the required information, append to list\n",
    "4. `print()` or save `to_csv(), to_excel()`"
   ]
  },
  {
   "attachments": {},
   "cell_type": "markdown",
   "metadata": {},
   "source": [
    "## 1. `requests`\n",
    "`requests` : package for getting the HTML contents of a webpage"
   ]
  },
  {
   "cell_type": "code",
   "execution_count": 1,
   "metadata": {},
   "outputs": [],
   "source": [
    "import requests\n",
    "\n",
    "url = 'https://www.naver.com'\n",
    "response = requests.get(url)\n",
    "html_text = response.text"
   ]
  },
  {
   "attachments": {},
   "cell_type": "markdown",
   "metadata": {},
   "source": [
    "- `response.text` : returns `str` form of HTML\n",
    "- `response.content` : returns `byte` type of HTML\n",
    "- `response.json` : returns `json` type of HTML\n",
    "- `response.status_code` : returns 200 if the request succeeded\n",
    "- `response.url` : gets the final responded URL (if the URL redirects, returns the redirected URL)\n",
    "- `response.headers` : returns the headers\n"
   ]
  },
  {
   "attachments": {},
   "cell_type": "markdown",
   "metadata": {},
   "source": [
    "## 2. `BeautifulSoup4`\n",
    "Parsing : the process of cleaning & tidying the messy, long HTML content"
   ]
  },
  {
   "cell_type": "code",
   "execution_count": 3,
   "metadata": {},
   "outputs": [],
   "source": [
    "from bs4 import BeautifulSoup as bs\n",
    "soup = bs(html_text, 'html.parser')"
   ]
  },
  {
   "attachments": {},
   "cell_type": "markdown",
   "metadata": {},
   "source": [
    "### `find()` and `find_all()`\n",
    "- `find()` : just one / `find_all()` : all values\n",
    "- if there are many attributes matching, `find()` returns the first value only\n",
    "- inside parentheses : HTML tags or attributes"
   ]
  },
  {
   "cell_type": "code",
   "execution_count": 4,
   "metadata": {},
   "outputs": [
    {
     "data": {
      "text/plain": [
       "<p class=\"dsc\">\n",
       "<i class=\"imsc ico_election\"></i><span class=\"_alert_passage\"></span>\n",
       "</p>"
      ]
     },
     "execution_count": 4,
     "metadata": {},
     "output_type": "execute_result"
    }
   ],
   "source": [
    "# by tag name\n",
    "soup.find('p')"
   ]
  },
  {
   "cell_type": "code",
   "execution_count": 8,
   "metadata": {},
   "outputs": [
    {
     "data": {
      "text/plain": [
       "<input accesskey=\"s\" autocomplete=\"off\" class=\"input_text\" data-atcmp-element=\"\" id=\"query\" maxlength=\"255\" name=\"query\" onclick=\"document.getElementById('fbm').value=1;\" placeholder=\"검색어를 입력해 주세요.\" style=\"ime-mode:active;\" tabindex=\"1\" title=\"검색어 입력\" type=\"search\" value=\"\"/>"
      ]
     },
     "execution_count": 8,
     "metadata": {},
     "output_type": "execute_result"
    }
   ],
   "source": [
    "# by class\n",
    "soup.find(class_ = 'input_text')\n",
    "soup.find(attrs={'class':'input_text'})"
   ]
  },
  {
   "cell_type": "code",
   "execution_count": 9,
   "metadata": {},
   "outputs": [
    {
     "data": {
      "text/plain": [
       "<input accesskey=\"s\" autocomplete=\"off\" class=\"input_text\" data-atcmp-element=\"\" id=\"query\" maxlength=\"255\" name=\"query\" onclick=\"document.getElementById('fbm').value=1;\" placeholder=\"검색어를 입력해 주세요.\" style=\"ime-mode:active;\" tabindex=\"1\" title=\"검색어 입력\" type=\"search\" value=\"\"/>"
      ]
     },
     "execution_count": 9,
     "metadata": {},
     "output_type": "execute_result"
    }
   ],
   "source": [
    "# by id\n",
    "soup.find(id='query')\n",
    "soup.find(attrs={'id':'query'})"
   ]
  },
  {
   "cell_type": "code",
   "execution_count": 13,
   "metadata": {},
   "outputs": [
    {
     "data": {
      "text/plain": [
       "<a class=\"btn_keyboard\" href=\"#\" id=\"ke_kbd_btn\" onclick=\"return false;\" role=\"button\"><span class=\"blind\">한글 입력기</span><span class=\"ico_keyboard\"></span></a>"
      ]
     },
     "execution_count": 13,
     "metadata": {},
     "output_type": "execute_result"
    }
   ],
   "source": [
    "# tag name & id\n",
    "soup.find('a', class_='btn_keyboard')"
   ]
  },
  {
   "attachments": {},
   "cell_type": "markdown",
   "metadata": {},
   "source": [
    "### `select()`, `select_one()`\n",
    "- `select()` = `find_all()` / `select_one()` = `find()`\n",
    "- CSS selector goes inside parentheses"
   ]
  },
  {
   "cell_type": "code",
   "execution_count": 14,
   "metadata": {},
   "outputs": [
    {
     "data": {
      "text/plain": [
       "<a class=\"btn_keyboard\" href=\"#\" id=\"ke_kbd_btn\" onclick=\"return false;\" role=\"button\"><span class=\"blind\">한글 입력기</span><span class=\"ico_keyboard\"></span></a>"
      ]
     },
     "execution_count": 14,
     "metadata": {},
     "output_type": "execute_result"
    }
   ],
   "source": [
    "soup.select_one('a.btn_keyboard')"
   ]
  },
  {
   "cell_type": "code",
   "execution_count": 15,
   "metadata": {},
   "outputs": [
    {
     "data": {
      "text/plain": [
       "[<a class=\"btn_keyboard\" href=\"#\" id=\"ke_kbd_btn\" onclick=\"return false;\" role=\"button\"><span class=\"blind\">한글 입력기</span><span class=\"ico_keyboard\"></span></a>]"
      ]
     },
     "execution_count": 15,
     "metadata": {},
     "output_type": "execute_result"
    }
   ],
   "source": [
    "soup.select('a.btn_keyboard')"
   ]
  },
  {
   "cell_type": "code",
   "execution_count": 19,
   "metadata": {},
   "outputs": [
    {
     "name": "stdout",
     "output_type": "stream",
     "text": [
      "한글 입력기\n"
     ]
    }
   ],
   "source": [
    "btn = soup.select('a.btn_keyboard')\n",
    "\n",
    "for i in btn :\n",
    "    btns = i.get_text()\n",
    "print(btns)"
   ]
  },
  {
   "attachments": {},
   "cell_type": "markdown",
   "metadata": {},
   "source": [
    "## 3. Getting the needed information & Printing\n",
    "- Example : Getting the titles & news agency names of a certain keyword search result"
   ]
  },
  {
   "cell_type": "code",
   "execution_count": 29,
   "metadata": {},
   "outputs": [
    {
     "name": "stdout",
     "output_type": "stream",
     "text": [
      "뉴진스, 한국대중음악상 3관왕 영예\n",
      "뉴진스, 日 최대 패션축제 뜨자 '들썩'\n",
      "리바이스, 150주년 기념 뉴진스 글로벌 앰버서더 발탁\n",
      "250, 한국대중음악상 ‘올해의 음반’ 등 4관왕…뉴진스 3관왕\n",
      "뉴진스의, 봄[화보]\n",
      "250, '올해의 음악인' 등 한대음 4관왕…뉴진스는 3관왕\n",
      "좋은 곡은 뉴진스에게 먼저?…'SM 사태' 우려 혹은 오류 [연계소문]\n",
      "'한대음' 뉴진스 3관왕·250 4관왕..윤하 올해의 노래상[종합]\n",
      "대세 입증 뉴진스, '쿠키'도 스포티파이 스트리밍 1억회 돌파\n",
      "뉴진스에 없는 딱 한 가지 [Oh!쎈 초점]\n"
     ]
    }
   ],
   "source": [
    "from bs4 import BeautifulSoup as bs\n",
    "import requests\n",
    "\n",
    "query = input('Search for keyword : ')\n",
    "url = 'https://search.naver.com/search.naver?where=news&sm=tab_jum&query='+'%s'%query\n",
    "\n",
    "response = requests.get(url)\n",
    "html_text = response.text\n",
    "\n",
    "soup = bs(html_text, 'html.parser')\n",
    "\n",
    "titles = soup.select('a.news_tit')\n",
    "\n",
    "for i in titles :\n",
    "    title = i.get_text() # get_text can only be applied to ONE object at a time\n",
    "    print(title)"
   ]
  },
  {
   "attachments": {},
   "cell_type": "markdown",
   "metadata": {},
   "source": [
    "#### CSS selector usage\n",
    "- Using CSS selector\n",
    "    - `soup.select('tag')`\n",
    "    - `soup.select('.class')`\n",
    "    - `soup.select('#id')`\n",
    " \n",
    "    - `soup.select('upper tag > lower tag > lower tag')`\n",
    "    - `soup.select('upper tag.class > lower tag.class')`\n",
    " \n",
    "- Tag & attributes\n",
    "    - `soup.select('tag[attribute=\"value\"]')`\n",
    " \n",
    "- Selecting only one value\n",
    "    - `soup.select_one('tag[attribute=\"value\"]')`"
   ]
  },
  {
   "attachments": {},
   "cell_type": "markdown",
   "metadata": {},
   "source": [
    "#### Getting elements\n",
    "- `get_text()` : gets the text of the element\n",
    "- `get('src')` or `['src']` : images"
   ]
  },
  {
   "cell_type": "code",
   "execution_count": 47,
   "metadata": {},
   "outputs": [
    {
     "name": "stdout",
     "output_type": "stream",
     "text": [
      "Saved image\n"
     ]
    }
   ],
   "source": [
    "import urllib.request\n",
    "\n",
    "img = soup.select_one('#sp_nws1 > div.news_wrap.api_ani_send > a > img')\n",
    "\n",
    "url = img['data-lazysrc']\n",
    "savename = 'image.png'\n",
    "\n",
    "urllib.request.urlretrieve(url, savename)\n",
    "print(\"Saved image\")"
   ]
  },
  {
   "attachments": {},
   "cell_type": "markdown",
   "metadata": {},
   "source": [
    "#### Others\n",
    "- `href` extraction : getting links\n",
    "- `attributes` : for getting individual, specific content with that particular attribute"
   ]
  }
 ],
 "metadata": {
  "kernelspec": {
   "display_name": "Python 3",
   "language": "python",
   "name": "python3"
  },
  "language_info": {
   "codemirror_mode": {
    "name": "ipython",
    "version": 3
   },
   "file_extension": ".py",
   "mimetype": "text/x-python",
   "name": "python",
   "nbconvert_exporter": "python",
   "pygments_lexer": "ipython3",
   "version": "3.10.10"
  },
  "orig_nbformat": 4
 },
 "nbformat": 4,
 "nbformat_minor": 2
}
